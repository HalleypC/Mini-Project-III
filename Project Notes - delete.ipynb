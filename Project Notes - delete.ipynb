{
 "cells": [
  {
   "cell_type": "markdown",
   "id": "51b0c4f2-b28b-4cc2-9f6b-72ab7472901d",
   "metadata": {},
   "source": [
    "# Mini Project III - Notes"
   ]
  },
  {
   "cell_type": "markdown",
   "id": "92e0ff8e-b69c-4aea-984b-fbefee2b899e",
   "metadata": {},
   "source": [
    "* we want to draw conclusions that have business solutions, we don't want to just present useless data\n",
    "\n",
    "examples: young group are depositing into their savings accounts, but not spending a lot - they are saving for a home, family, etc. May be able to recommend long term investment products to this cluster, like RRSPs"
   ]
  },
  {
   "cell_type": "code",
   "execution_count": null,
   "id": "c603d90f-813c-47e0-bade-3a507a0a4dc3",
   "metadata": {},
   "outputs": [],
   "source": [
    "- Data Wrangling\n",
    "- Data Visualization\n",
    "- Data Preparation and Feature Engineering\n",
    "- Dimensionality Reduction\n",
    "- Unsupervised Learning"
   ]
  },
  {
   "cell_type": "markdown",
   "id": "54a123ca-e373-4650-8f2c-e8d71d0389d2",
   "metadata": {},
   "source": [
    "for the demographics we should plot their locations on a map to show where the customers are clustered based on location"
   ]
  },
  {
   "cell_type": "code",
   "execution_count": null,
   "id": "967fc74c-46d4-4c4d-bf22-8c91e8227cf4",
   "metadata": {},
   "outputs": [],
   "source": []
  },
  {
   "cell_type": "code",
   "execution_count": null,
   "id": "3adb2216-9a9a-4306-8385-8cabadf0f20a",
   "metadata": {},
   "outputs": [],
   "source": []
  },
  {
   "cell_type": "markdown",
   "id": "ee3db103-0204-4e48-8bb1-d4d71d0fb0b7",
   "metadata": {},
   "source": [
    "## 1. create two separate customer segmentations (using clustering) to split them into 3-5 clusters:\n",
    "    - based on demographics (only on the information from twm_customer)\n",
    "    - based on their banking behavior. We can take following things into consideration as banking behavior:\n",
    "        - do they have savings account? How much do they save?\n",
    "        - do they have credit account? How much do they live in debt?\n",
    "        - are they making lot of small transactions or few huge ones? "
   ]
  },
  {
   "cell_type": "code",
   "execution_count": null,
   "id": "de9b022e-35b7-468f-a4db-49abf88e05a8",
   "metadata": {},
   "outputs": [],
   "source": [
    "#try using KElbow visualizer - this tool is just a more detailed elbow graph and automatically tells you which k to pick\n",
    "#from yellowbrick.cluster import KElbowVisalizer"
   ]
  },
  {
   "cell_type": "code",
   "execution_count": null,
   "id": "6e8ee00a-b0a6-471f-8622-cefcbef98030",
   "metadata": {},
   "outputs": [],
   "source": []
  },
  {
   "cell_type": "code",
   "execution_count": null,
   "id": "732be2c2-2355-4fae-a1a8-24d1781ef47c",
   "metadata": {},
   "outputs": [],
   "source": []
  },
  {
   "cell_type": "markdown",
   "id": "4e4e6947-be85-4d2f-a0f5-f9f35c7862b3",
   "metadata": {},
   "source": [
    "### 2. visualize the created clusters using [radar charts](https://plotly.com/python/radar-chart/) and compare them agains each other"
   ]
  },
  {
   "cell_type": "code",
   "execution_count": null,
   "id": "d8ec0fd0-e281-4bba-82f1-7a11dac18e12",
   "metadata": {},
   "outputs": [],
   "source": [
    "#you want to plot all your clusters onto one radar plots\n",
    "#if all the clusters have high overlap then we need to go back and do more feature engineering, \n",
    "#these clusters don't have enough separation so we can't draw any conclusions on recommendations based on cluster\n",
    "#if the ages of the demographic clusters are similar then we need to re-cluster"
   ]
  },
  {
   "cell_type": "code",
   "execution_count": null,
   "id": "ca24073a-1ed9-4518-88c7-6e54185865a3",
   "metadata": {},
   "outputs": [],
   "source": []
  },
  {
   "cell_type": "markdown",
   "id": "6f01514b-7a4c-4329-aaa9-e50f1a6bb720",
   "metadata": {},
   "source": [
    "### 3. visualize segmentations using scatter plot. We will have to use PCA to be able to plot our observations in 2D."
   ]
  },
  {
   "cell_type": "code",
   "execution_count": null,
   "id": "be6bf74f-307d-496d-bc82-45187923fd72",
   "metadata": {},
   "outputs": [],
   "source": [
    "# we can be flexible on this - the goal is to visualize the segments, don't necessarily have to use PCA if there is something better"
   ]
  },
  {
   "cell_type": "code",
   "execution_count": null,
   "id": "b32d3edc-c7cc-4471-abbd-d6956455a1a9",
   "metadata": {},
   "outputs": [],
   "source": []
  },
  {
   "cell_type": "markdown",
   "id": "a53d89f7-3b67-4b74-8734-6bcf21cf4979",
   "metadata": {},
   "source": [
    "### 4. (stretch) visualize in 2D how our clusters are evolving in each iteration of KMeans (for at least 20 iterations).\n",
    "    - we will need to create own implementation of kmeans so we can see what is happening with the clusters during the iterations."
   ]
  },
  {
   "cell_type": "code",
   "execution_count": null,
   "id": "854b3088-86af-4a44-9a7f-7c839ec2083f",
   "metadata": {},
   "outputs": [],
   "source": []
  },
  {
   "cell_type": "code",
   "execution_count": null,
   "id": "23825d94-115f-4f39-8ea5-6fdbfaf16219",
   "metadata": {},
   "outputs": [],
   "source": []
  }
 ],
 "metadata": {
  "kernelspec": {
   "display_name": "lighthouse_env",
   "language": "python",
   "name": "lighthouse_env"
  },
  "language_info": {
   "codemirror_mode": {
    "name": "ipython",
    "version": 3
   },
   "file_extension": ".py",
   "mimetype": "text/x-python",
   "name": "python",
   "nbconvert_exporter": "python",
   "pygments_lexer": "ipython3",
   "version": "3.9.13"
  }
 },
 "nbformat": 4,
 "nbformat_minor": 5
}
